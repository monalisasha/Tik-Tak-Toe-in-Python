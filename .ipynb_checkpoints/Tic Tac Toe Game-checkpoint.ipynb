{
 "cells": [
  {
   "cell_type": "markdown",
   "metadata": {},
   "source": [
    "## Tik Tak Toe Game"
   ]
  },
  {
   "cell_type": "code",
   "execution_count": 75,
   "metadata": {},
   "outputs": [],
   "source": [
    "from IPython.display import clear_output\n",
    "\n",
    "#Dispalying the board function\n",
    "def display_board(board):\n",
    "    clear_output()\n",
    "    print(board[7]+\"|\"+board[8]+\"|\"+board[9])\n",
    "    print(\"-----\")\n",
    "    print(board[4]+\"|\"+board[5]+\"|\"+board[6])\n",
    "    print(\"-----\")\n",
    "    print(board[1]+\"|\"+board[2]+\"|\"+board[3])\n",
    "    "
   ]
  },
  {
   "cell_type": "code",
   "execution_count": 76,
   "metadata": {},
   "outputs": [
    {
     "name": "stdout",
     "output_type": "stream",
     "text": [
      " | | \n",
      "-----\n",
      " | | \n",
      "-----\n",
      " | | \n"
     ]
    }
   ],
   "source": [
    "test_board = [' ']*10\n",
    "display_board(test_board)"
   ]
  },
  {
   "cell_type": "code",
   "execution_count": 79,
   "metadata": {},
   "outputs": [],
   "source": [
    "# Taking the player's marker option between X or O\n",
    "def player_input():\n",
    "    marker = ''\n",
    "    \n",
    "    while marker != \"X\" and marker != \"O\":\n",
    "        marker = input(\"Please pick a marker 'X' or 'O':\")\n",
    "    \n",
    "    player1 = marker\n",
    "    \n",
    "    if player1 == \"X\":\n",
    "        player2 = \"O\"\n",
    "    else:\n",
    "        player2 = \"X\"\n",
    "    return (player1, player2)"
   ]
  },
  {
   "cell_type": "code",
   "execution_count": 80,
   "metadata": {
    "scrolled": true
   },
   "outputs": [
    {
     "name": "stdout",
     "output_type": "stream",
     "text": [
      "Please pick a marker 'X' or 'O':X\n"
     ]
    }
   ],
   "source": [
    "marker = player_input()"
   ]
  },
  {
   "cell_type": "code",
   "execution_count": 81,
   "metadata": {},
   "outputs": [],
   "source": [
    "#Taking the player's position\n",
    "def player_position():\n",
    "    position = ''\n",
    "    while position not in range(0,9):\n",
    "        position = int(input(\"Please select your position from 0-8:\"))\n",
    "    \n",
    "    return position"
   ]
  },
  {
   "cell_type": "code",
   "execution_count": 82,
   "metadata": {},
   "outputs": [
    {
     "name": "stdout",
     "output_type": "stream",
     "text": [
      "Please select your position from 0-8:8\n"
     ]
    },
    {
     "data": {
      "text/plain": [
       "8"
      ]
     },
     "execution_count": 82,
     "metadata": {},
     "output_type": "execute_result"
    }
   ],
   "source": [
    "player_position()"
   ]
  },
  {
   "cell_type": "code",
   "execution_count": 83,
   "metadata": {},
   "outputs": [],
   "source": [
    "#Updating the marker in the entered position in the board\n",
    "def place_marker(board, marker, position):\n",
    "    board[position] = marker\n",
    "    "
   ]
  },
  {
   "cell_type": "code",
   "execution_count": 84,
   "metadata": {},
   "outputs": [
    {
     "name": "stdout",
     "output_type": "stream",
     "text": [
      " |X| \n",
      "-----\n",
      " | | \n",
      "-----\n",
      " | | \n"
     ]
    }
   ],
   "source": [
    "test_board = [' ']*10\n",
    "place_marker(test_board,'X',8)\n",
    "display_board(test_board)"
   ]
  },
  {
   "cell_type": "code",
   "execution_count": 85,
   "metadata": {},
   "outputs": [],
   "source": [
    "# checking if a player won\n",
    "def win_check(board, mark):\n",
    "    return ((board[7] == mark and board[8] == mark and board[9] == mark) or \n",
    "(board[4] == mark and board[5] == mark and board[6] == mark) or\n",
    "(board[1] == mark and board[2] == mark and board[3] == mark) or\n",
    "(board[1] == mark and board[4] == mark and board[7] == mark) or\n",
    "(board[2] == mark and board[5] == mark and board[8] == mark) or\n",
    "(board[3] == mark and board[6] == mark and board[9] == mark) or\n",
    "(board[1] == mark and board[5] == mark and board[9] == mark) or\n",
    "(board[7] == mark and board[5] == mark and board[3] == mark)) "
   ]
  },
  {
   "cell_type": "code",
   "execution_count": 86,
   "metadata": {},
   "outputs": [
    {
     "data": {
      "text/plain": [
       "False"
      ]
     },
     "execution_count": 86,
     "metadata": {},
     "output_type": "execute_result"
    }
   ],
   "source": [
    "win_check(test_board, 'X')"
   ]
  },
  {
   "cell_type": "code",
   "execution_count": 87,
   "metadata": {},
   "outputs": [],
   "source": [
    "# Randomly choosing a player to go first\n",
    "import random\n",
    "\n",
    "def choose_first():\n",
    "    if random.randint(0,1) == 0:\n",
    "        return 'Player 2'\n",
    "    else:\n",
    "        return 'Player 1'"
   ]
  },
  {
   "cell_type": "code",
   "execution_count": 88,
   "metadata": {},
   "outputs": [],
   "source": [
    "#Checking if a space entered by the player is available in the board\n",
    "def space_check(board, position):\n",
    "    if board[position] == ' ':\n",
    "        return True"
   ]
  },
  {
   "cell_type": "code",
   "execution_count": 89,
   "metadata": {},
   "outputs": [],
   "source": [
    "#Checking of the board is full\n",
    "def full_board_check(board):\n",
    "    for i in range(1,10):\n",
    "        if space_check(board, i):\n",
    "            return False\n",
    "    return True"
   ]
  },
  {
   "cell_type": "code",
   "execution_count": null,
   "metadata": {},
   "outputs": [],
   "source": [
    "def player_choice(board,player):\n",
    "    position = 0\n",
    "    position_list = [1,2,3,4,5,6,7,8,9]\n",
    "    while position not in position_list and space_check(board,position):\n",
    "        position = int(input(\"{} Please enter your next position from (1,9):\".format(player)))\n",
    "    return position"
   ]
  },
  {
   "cell_type": "code",
   "execution_count": 115,
   "metadata": {},
   "outputs": [],
   "source": [
    "#Asking the player if they want to contunue once done with one game\n",
    "def replay():\n",
    "    reply = input(\"Do you want to play again (Y/N):\")\n",
    "    return reply"
   ]
  },
  {
   "cell_type": "code",
   "execution_count": 123,
   "metadata": {},
   "outputs": [
    {
     "name": "stdout",
     "output_type": "stream",
     "text": [
      "O| | \n",
      "-----\n",
      "X|O|X\n",
      "-----\n",
      "O|X|O\n",
      "Congratulations! Player 2 have won the game.\n",
      "Do you want to play again (Y/N):N\n",
      "Good Job!\n"
     ]
    }
   ],
   "source": [
    "#Calling all the functions within a while loop\n",
    "\n",
    "print('Welcome! Lets play Tic Tac Toe!')\n",
    "\n",
    "while True:\n",
    "    test_board = [' ']*10\n",
    "    player1, player2 = player_input()\n",
    "    \n",
    "    print(\"Player 1 marker is:{} and Player 2 marker is {}\".format(player1, player2))\n",
    "    \n",
    "    choose_turn = choose_first()\n",
    "    print(choose_turn +\" \"+ \"will play first\")\n",
    "    \n",
    "    play_game = input(\"Are you ready to play (Y/N) ?\")\n",
    "    \n",
    "    if play_game == \"Y\":\n",
    "        game_on = True\n",
    "    else:\n",
    "        game_on = False\n",
    "    \n",
    "   \n",
    "    while game_on:\n",
    "        # Player 1 is playing\n",
    "        if choose_turn == \"Player 1\":\n",
    "            display_board(test_board)\n",
    "            position = player_choice(test_board,player1)\n",
    "            \n",
    "            if space_check(test_board, position):\n",
    "                place_marker(test_board,player1,position)\n",
    "            else:\n",
    "                print(\"Space is already been entered\")\n",
    "            \n",
    "            if win_check(test_board, player1):\n",
    "                display_board(test_board)\n",
    "                print(\"Congratulations! Player 1 have won the game.\")\n",
    "                game_on = False\n",
    "            else:\n",
    "                if full_board_check(test_board):\n",
    "                    display_board(test_board)\n",
    "                    print(\"Match Draw!\")\n",
    "                    break\n",
    "                else:\n",
    "                    choose_turn = \"Player 2\" \n",
    "                \n",
    "        else:\n",
    "            # Player 2 is playing now\n",
    "            display_board(test_board)\n",
    "            position = player_choice(test_board,player2)\n",
    "            \n",
    "            if space_check(test_board, position):\n",
    "                place_marker(test_board,player2,position)\n",
    "            else:\n",
    "                print(\"Space is already been entered\")\n",
    "            \n",
    "            if win_check(test_board, player2):\n",
    "                display_board(test_board)\n",
    "                print(\"Congratulations! Player 2 have won the game.\")\n",
    "                game_on = False\n",
    "            else:\n",
    "                if full_board_check(test_board):\n",
    "                    display_board(test_board)\n",
    "                    print(\"Match Draw!\")\n",
    "                    break\n",
    "                else:\n",
    "                    choose_turn = \"Player 1\" \n",
    "\n",
    "    if replay() == \"N\":\n",
    "        print(\"Good Job!\")\n",
    "        break\n"
   ]
  },
  {
   "cell_type": "code",
   "execution_count": null,
   "metadata": {},
   "outputs": [],
   "source": []
  }
 ],
 "metadata": {
  "kernelspec": {
   "display_name": "Python 3",
   "language": "python",
   "name": "python3"
  },
  "language_info": {
   "codemirror_mode": {
    "name": "ipython",
    "version": 3
   },
   "file_extension": ".py",
   "mimetype": "text/x-python",
   "name": "python",
   "nbconvert_exporter": "python",
   "pygments_lexer": "ipython3",
   "version": "3.8.3"
  }
 },
 "nbformat": 4,
 "nbformat_minor": 4
}
